{
 "cells": [
  {
   "cell_type": "code",
   "execution_count": 3,
   "metadata": {},
   "outputs": [],
   "source": [
    "import os\n",
    "import pandas as pd\n",
    "import tensorflow as tf\n",
    "from sklearn.model_selection import KFold"
   ]
  },
  {
   "cell_type": "code",
   "execution_count": 4,
   "metadata": {},
   "outputs": [],
   "source": [
    "def binary_bach_data(data_path, neg_labels, pos_labels):\n",
    "    \"\"\"_summary_\n",
    "\n",
    "    Args:\n",
    "        data_path (_type_): _description_\n",
    "        neg_labels (_type_): _description_\n",
    "        pos_labels (_type_): _description_\n",
    "\n",
    "    Returns:\n",
    "        _type_: _description_\n",
    "    \"\"\"\n",
    "    neg_slides = list()\n",
    "    pos_slides = list()\n",
    "\n",
    "    for i in neg_labels:\n",
    "        for neg in tf.io.gfile.listdir(os.path.join(data_path, i)):\n",
    "            neg_slides.append(neg)\n",
    "    \n",
    "    for j in pos_labels:\n",
    "        for pos in tf.io.gfile.listdir(os.path.join(data_path, j)):\n",
    "            pos_slides.append(pos)\n",
    "    \n",
    "    return neg_slides, pos_slides"
   ]
  },
  {
   "cell_type": "code",
   "execution_count": 5,
   "metadata": {},
   "outputs": [],
   "source": [
    "data_path = \"/home/quincy/data/BACH/\"\n",
    "neg_labels = [\"Normal\", \"Benign\"]\n",
    "pos_labels = [\"InSitu\", \"Invasive\"]"
   ]
  },
  {
   "cell_type": "code",
   "execution_count": 6,
   "metadata": {},
   "outputs": [],
   "source": [
    "neg_slides, pos_slides = binary_bach_data(data_path, neg_labels, pos_labels)"
   ]
  },
  {
   "cell_type": "code",
   "execution_count": 9,
   "metadata": {},
   "outputs": [
    {
     "data": {
      "text/plain": [
       "(['n065.tif', 'n044.tif'], ['is037.tif', 'is033.tif'])"
      ]
     },
     "execution_count": 9,
     "metadata": {},
     "output_type": "execute_result"
    }
   ],
   "source": [
    "neg_slides[0:2], pos_slides[0:2]"
   ]
  },
  {
   "cell_type": "code",
   "execution_count": 12,
   "metadata": {},
   "outputs": [
    {
     "data": {
      "text/plain": [
       "(200, 200)"
      ]
     },
     "execution_count": 12,
     "metadata": {},
     "output_type": "execute_result"
    }
   ],
   "source": [
    "len(neg_slides), len(pos_slides)"
   ]
  },
  {
   "cell_type": "code",
   "execution_count": 10,
   "metadata": {},
   "outputs": [],
   "source": [
    "def select_test_data(neg_slides, pos_slides, test_ratio=0.2):\n",
    "    \"\"\"_summary_\n",
    "\n",
    "    Args:\n",
    "        neg_slides (_type_): _description_\n",
    "        pos_slides (_type_): _description_\n",
    "        test_ratio (float, optional): _description_. Defaults to 0.2.\n",
    "\n",
    "    Returns:\n",
    "        _type_: _description_\n",
    "    \"\"\"\n",
    "    import random\n",
    "\n",
    "    neg_test_slides = random.choices(\n",
    "        neg_slides, \n",
    "        k=int(len(neg_slides) * test_ratio)\n",
    "    )\n",
    "    \n",
    "    pos_test_slides = random.choices(\n",
    "        pos_slides, \n",
    "        k=int(len(pos_slides) * test_ratio)\n",
    "    )\n",
    "\n",
    "    return neg_test_slides, pos_test_slides"
   ]
  },
  {
   "cell_type": "code",
   "execution_count": 11,
   "metadata": {},
   "outputs": [],
   "source": [
    "neg_test_slides, pos_test_slides = select_test_data(neg_slides, pos_slides, test_ratio=0.2)"
   ]
  },
  {
   "cell_type": "code",
   "execution_count": 13,
   "metadata": {},
   "outputs": [
    {
     "data": {
      "text/plain": [
       "(['b082.tif', 'n002.tif'], ['iv015.tif', 'iv077.tif'])"
      ]
     },
     "execution_count": 13,
     "metadata": {},
     "output_type": "execute_result"
    }
   ],
   "source": [
    "neg_test_slides[0:2], pos_test_slides[0:2]"
   ]
  },
  {
   "cell_type": "code",
   "execution_count": 14,
   "metadata": {},
   "outputs": [
    {
     "data": {
      "text/plain": [
       "(40, 40)"
      ]
     },
     "execution_count": 14,
     "metadata": {},
     "output_type": "execute_result"
    }
   ],
   "source": [
    "len(neg_test_slides), len(pos_test_slides)"
   ]
  },
  {
   "cell_type": "code",
   "execution_count": 16,
   "metadata": {},
   "outputs": [],
   "source": [
    "def cross_val_data(neg_slides, pos_slides, test_ratio=0.0, n_folds=5, kf_shuffle=False, kf_rs=None):\n",
    "    \"\"\"_summary_\n",
    "\n",
    "    Args:\n",
    "        neg_slides (_type_): _description_\n",
    "        pos_slides (_type_): _description_\n",
    "        kf_csv_path (_type_): _description_\n",
    "        test_ratio (float, optional): _description_. Defaults to 0.0.\n",
    "        n_folds (int, optional): _description_. Defaults to 5.\n",
    "        kf_shuffle (bool, optional): _description_. Defaults to False.\n",
    "        kf_rs (_type_, optional): _description_. Defaults to None.\n",
    "    \"\"\"\n",
    "    if test_ratio != 0.0:\n",
    "        neg_test_slides, pos_test_slides = select_test_data(\n",
    "            neg_slides=neg_slides, \n",
    "            pos_slides=pos_slides, \n",
    "            test_ratio=test_ratio\n",
    "        )\n",
    "        test_df = pd.DataFrame(\n",
    "            {\"UUID\": neg_test_slides + pos_test_slides}\n",
    "        )\n",
    "\n",
    "        ## return slides uuids for training and validation from the negative and positive class samples\n",
    "        neg_slides = list(set(neg_slides) - set(neg_test_slides))\n",
    "        pos_slides = list(set(pos_slides) - set(pos_test_slides))\n",
    "\n",
    "    ## initiate k-fold cross validation, check sklearn KFold documentation via \n",
    "    ## https://scikit-learn.org/stable/modules/generated/sklearn.model_selection.KFold.html for \n",
    "    ## more information in details\n",
    "    kf_cv = KFold(n_splits=n_folds, shuffle=kf_shuffle, random_state=kf_rs)\n",
    "\n",
    "    ## K-Fold Cross Validation Data Split in Negative Class Samples\n",
    "    neg_train_index = list()\n",
    "    neg_val_index = list()\n",
    "    for nt_idx, nv_idx in kf_cv.split(neg_slides):\n",
    "        neg_train_index.append(nt_idx)\n",
    "        neg_val_index.append(nv_idx)\n",
    "    \n",
    "    neg_train_slides = list()\n",
    "    for fold_nt_idx in neg_train_index: \n",
    "        neg_train_slides.append([neg_slides[i] for i in fold_nt_idx])\n",
    "    \n",
    "    neg_val_slides = list()\n",
    "    for fold_nv_idx in neg_val_index: \n",
    "        neg_val_slides.append([neg_slides[i] for i in fold_nv_idx])\n",
    "    \n",
    "    ## K-Fold Cross Validation Data Split in Postive Class Samples\n",
    "    pos_train_index = list()\n",
    "    pos_val_index = list()\n",
    "    for pt_idx, pv_idx in kf_cv.split(pos_slides):\n",
    "        pos_train_index.append(pt_idx)\n",
    "        pos_val_index.append(pv_idx)\n",
    "    \n",
    "    pos_train_slides = list()\n",
    "    for fold_pt_idx in pos_train_index: \n",
    "        pos_train_slides.append([pos_slides[i] for i in fold_pt_idx])\n",
    "    \n",
    "    pos_val_slides = list()\n",
    "    for fold_pv_idx in pos_val_index: \n",
    "        pos_val_slides.append([pos_slides[i] for i in fold_pv_idx])\n",
    "    \n",
    "    ## Combine K-Fold Cross Validation Data Split in Negative and Positive Class Samples\n",
    "    for f in range(n_folds):\n",
    "        train_fold_slides = neg_train_slides[f] + pos_train_slides[f]\n",
    "        val_fold_slides = neg_val_slides[f] + pos_val_slides[f]\n",
    "        train_fold_df = pd.DataFrame(\n",
    "            {\"UUID\": train_fold_slides}\n",
    "        )\n",
    "        val_fold_df = pd.DataFrame(\n",
    "            {\"UUID\": val_fold_slides}\n",
    "        )\n",
    "    \n",
    "    return train_fold_df, val_fold_df, test_df"
   ]
  },
  {
   "cell_type": "code",
   "execution_count": 17,
   "metadata": {},
   "outputs": [],
   "source": [
    "train_fold_df, val_fold_df, test_df = cross_val_data(neg_slides, pos_slides, test_ratio=0.2, n_folds=5, kf_shuffle=True, kf_rs=13)"
   ]
  },
  {
   "cell_type": "code",
   "execution_count": 18,
   "metadata": {},
   "outputs": [
    {
     "data": {
      "text/html": [
       "<div>\n",
       "<style scoped>\n",
       "    .dataframe tbody tr th:only-of-type {\n",
       "        vertical-align: middle;\n",
       "    }\n",
       "\n",
       "    .dataframe tbody tr th {\n",
       "        vertical-align: top;\n",
       "    }\n",
       "\n",
       "    .dataframe thead th {\n",
       "        text-align: right;\n",
       "    }\n",
       "</style>\n",
       "<table border=\"1\" class=\"dataframe\">\n",
       "  <thead>\n",
       "    <tr style=\"text-align: right;\">\n",
       "      <th></th>\n",
       "      <th>UUID</th>\n",
       "    </tr>\n",
       "  </thead>\n",
       "  <tbody>\n",
       "    <tr>\n",
       "      <th>0</th>\n",
       "      <td>n043.tif</td>\n",
       "    </tr>\n",
       "    <tr>\n",
       "      <th>1</th>\n",
       "      <td>n010.tif</td>\n",
       "    </tr>\n",
       "    <tr>\n",
       "      <th>2</th>\n",
       "      <td>b052.tif</td>\n",
       "    </tr>\n",
       "    <tr>\n",
       "      <th>3</th>\n",
       "      <td>b027.tif</td>\n",
       "    </tr>\n",
       "    <tr>\n",
       "      <th>4</th>\n",
       "      <td>n095.tif</td>\n",
       "    </tr>\n",
       "    <tr>\n",
       "      <th>...</th>\n",
       "      <td>...</td>\n",
       "    </tr>\n",
       "    <tr>\n",
       "      <th>257</th>\n",
       "      <td>is031.tif</td>\n",
       "    </tr>\n",
       "    <tr>\n",
       "      <th>258</th>\n",
       "      <td>is050.tif</td>\n",
       "    </tr>\n",
       "    <tr>\n",
       "      <th>259</th>\n",
       "      <td>is033.tif</td>\n",
       "    </tr>\n",
       "    <tr>\n",
       "      <th>260</th>\n",
       "      <td>iv059.tif</td>\n",
       "    </tr>\n",
       "    <tr>\n",
       "      <th>261</th>\n",
       "      <td>is041.tif</td>\n",
       "    </tr>\n",
       "  </tbody>\n",
       "</table>\n",
       "<p>262 rows × 1 columns</p>\n",
       "</div>"
      ],
      "text/plain": [
       "          UUID\n",
       "0     n043.tif\n",
       "1     n010.tif\n",
       "2     b052.tif\n",
       "3     b027.tif\n",
       "4     n095.tif\n",
       "..         ...\n",
       "257  is031.tif\n",
       "258  is050.tif\n",
       "259  is033.tif\n",
       "260  iv059.tif\n",
       "261  is041.tif\n",
       "\n",
       "[262 rows x 1 columns]"
      ]
     },
     "execution_count": 18,
     "metadata": {},
     "output_type": "execute_result"
    }
   ],
   "source": [
    "train_fold_df"
   ]
  },
  {
   "cell_type": "code",
   "execution_count": 19,
   "metadata": {},
   "outputs": [
    {
     "data": {
      "text/html": [
       "<div>\n",
       "<style scoped>\n",
       "    .dataframe tbody tr th:only-of-type {\n",
       "        vertical-align: middle;\n",
       "    }\n",
       "\n",
       "    .dataframe tbody tr th {\n",
       "        vertical-align: top;\n",
       "    }\n",
       "\n",
       "    .dataframe thead th {\n",
       "        text-align: right;\n",
       "    }\n",
       "</style>\n",
       "<table border=\"1\" class=\"dataframe\">\n",
       "  <thead>\n",
       "    <tr style=\"text-align: right;\">\n",
       "      <th></th>\n",
       "      <th>UUID</th>\n",
       "    </tr>\n",
       "  </thead>\n",
       "  <tbody>\n",
       "    <tr>\n",
       "      <th>0</th>\n",
       "      <td>n007.tif</td>\n",
       "    </tr>\n",
       "    <tr>\n",
       "      <th>1</th>\n",
       "      <td>b080.tif</td>\n",
       "    </tr>\n",
       "    <tr>\n",
       "      <th>2</th>\n",
       "      <td>n052.tif</td>\n",
       "    </tr>\n",
       "    <tr>\n",
       "      <th>3</th>\n",
       "      <td>n009.tif</td>\n",
       "    </tr>\n",
       "    <tr>\n",
       "      <th>4</th>\n",
       "      <td>b071.tif</td>\n",
       "    </tr>\n",
       "    <tr>\n",
       "      <th>...</th>\n",
       "      <td>...</td>\n",
       "    </tr>\n",
       "    <tr>\n",
       "      <th>59</th>\n",
       "      <td>is099.tif</td>\n",
       "    </tr>\n",
       "    <tr>\n",
       "      <th>60</th>\n",
       "      <td>iv009.tif</td>\n",
       "    </tr>\n",
       "    <tr>\n",
       "      <th>61</th>\n",
       "      <td>is018.tif</td>\n",
       "    </tr>\n",
       "    <tr>\n",
       "      <th>62</th>\n",
       "      <td>is001.tif</td>\n",
       "    </tr>\n",
       "    <tr>\n",
       "      <th>63</th>\n",
       "      <td>iv017.tif</td>\n",
       "    </tr>\n",
       "  </tbody>\n",
       "</table>\n",
       "<p>64 rows × 1 columns</p>\n",
       "</div>"
      ],
      "text/plain": [
       "         UUID\n",
       "0    n007.tif\n",
       "1    b080.tif\n",
       "2    n052.tif\n",
       "3    n009.tif\n",
       "4    b071.tif\n",
       "..        ...\n",
       "59  is099.tif\n",
       "60  iv009.tif\n",
       "61  is018.tif\n",
       "62  is001.tif\n",
       "63  iv017.tif\n",
       "\n",
       "[64 rows x 1 columns]"
      ]
     },
     "execution_count": 19,
     "metadata": {},
     "output_type": "execute_result"
    }
   ],
   "source": [
    "val_fold_df"
   ]
  },
  {
   "cell_type": "code",
   "execution_count": 20,
   "metadata": {},
   "outputs": [
    {
     "data": {
      "text/html": [
       "<div>\n",
       "<style scoped>\n",
       "    .dataframe tbody tr th:only-of-type {\n",
       "        vertical-align: middle;\n",
       "    }\n",
       "\n",
       "    .dataframe tbody tr th {\n",
       "        vertical-align: top;\n",
       "    }\n",
       "\n",
       "    .dataframe thead th {\n",
       "        text-align: right;\n",
       "    }\n",
       "</style>\n",
       "<table border=\"1\" class=\"dataframe\">\n",
       "  <thead>\n",
       "    <tr style=\"text-align: right;\">\n",
       "      <th></th>\n",
       "      <th>UUID</th>\n",
       "    </tr>\n",
       "  </thead>\n",
       "  <tbody>\n",
       "    <tr>\n",
       "      <th>0</th>\n",
       "      <td>n056.tif</td>\n",
       "    </tr>\n",
       "    <tr>\n",
       "      <th>1</th>\n",
       "      <td>b065.tif</td>\n",
       "    </tr>\n",
       "    <tr>\n",
       "      <th>2</th>\n",
       "      <td>b040.tif</td>\n",
       "    </tr>\n",
       "    <tr>\n",
       "      <th>3</th>\n",
       "      <td>n081.tif</td>\n",
       "    </tr>\n",
       "    <tr>\n",
       "      <th>4</th>\n",
       "      <td>n100.tif</td>\n",
       "    </tr>\n",
       "    <tr>\n",
       "      <th>...</th>\n",
       "      <td>...</td>\n",
       "    </tr>\n",
       "    <tr>\n",
       "      <th>75</th>\n",
       "      <td>is059.tif</td>\n",
       "    </tr>\n",
       "    <tr>\n",
       "      <th>76</th>\n",
       "      <td>is004.tif</td>\n",
       "    </tr>\n",
       "    <tr>\n",
       "      <th>77</th>\n",
       "      <td>iv004.tif</td>\n",
       "    </tr>\n",
       "    <tr>\n",
       "      <th>78</th>\n",
       "      <td>is078.tif</td>\n",
       "    </tr>\n",
       "    <tr>\n",
       "      <th>79</th>\n",
       "      <td>iv093.tif</td>\n",
       "    </tr>\n",
       "  </tbody>\n",
       "</table>\n",
       "<p>80 rows × 1 columns</p>\n",
       "</div>"
      ],
      "text/plain": [
       "         UUID\n",
       "0    n056.tif\n",
       "1    b065.tif\n",
       "2    b040.tif\n",
       "3    n081.tif\n",
       "4    n100.tif\n",
       "..        ...\n",
       "75  is059.tif\n",
       "76  is004.tif\n",
       "77  iv004.tif\n",
       "78  is078.tif\n",
       "79  iv093.tif\n",
       "\n",
       "[80 rows x 1 columns]"
      ]
     },
     "execution_count": 20,
     "metadata": {},
     "output_type": "execute_result"
    }
   ],
   "source": [
    "test_df"
   ]
  }
 ],
 "metadata": {
  "kernelspec": {
   "display_name": "Python 3.7.0",
   "language": "python",
   "name": "python3"
  },
  "language_info": {
   "codemirror_mode": {
    "name": "ipython",
    "version": 3
   },
   "file_extension": ".py",
   "mimetype": "text/x-python",
   "name": "python",
   "nbconvert_exporter": "python",
   "pygments_lexer": "ipython3",
   "version": "3.7.0"
  },
  "orig_nbformat": 4,
  "vscode": {
   "interpreter": {
    "hash": "61a3f786ec34b84a65d614f30c70f02f118b76bdbe423d7aa53b36e19ecb0c24"
   }
  }
 },
 "nbformat": 4,
 "nbformat_minor": 2
}
