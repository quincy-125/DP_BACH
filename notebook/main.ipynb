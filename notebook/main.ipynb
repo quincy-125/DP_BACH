{
 "cells": [
  {
   "cell_type": "markdown",
   "metadata": {},
   "source": [
    "## Import Required Packages"
   ]
  },
  {
   "cell_type": "code",
   "execution_count": 1,
   "metadata": {},
   "outputs": [],
   "source": [
    "import tensorflow as tf\n",
    "import tensorflow_addons as tfa\n",
    "from tqdm import tqdm\n",
    "import pandas as pd\n",
    "import sklearn\n",
    "from sklearn import metrics\n",
    "import re\n",
    "import numpy as np\n",
    "import pickle as pkl\n",
    "import PIL\n",
    "import datetime\n",
    "import os\n",
    "import random\n",
    "import shutil\n",
    "import statistics\n",
    "import time\n",
    "import import_ipynb"
   ]
  },
  {
   "cell_type": "markdown",
   "metadata": {},
   "source": [
    "## Import Required Functions or Methods from Other Files"
   ]
  },
  {
   "cell_type": "code",
   "execution_count": 2,
   "metadata": {},
   "outputs": [
    {
     "name": "stdout",
     "output_type": "stream",
     "text": [
      "importing Jupyter notebook from util.ipynb\n",
      "importing Jupyter notebook from model.ipynb\n",
      "importing Jupyter notebook from optimize_test.ipynb\n"
     ]
    }
   ],
   "source": [
    "from util import *"
   ]
  },
  {
   "cell_type": "code",
   "execution_count": 3,
   "metadata": {},
   "outputs": [],
   "source": [
    "from model import *"
   ]
  },
  {
   "cell_type": "code",
   "execution_count": 4,
   "metadata": {},
   "outputs": [],
   "source": [
    "from optimize_test import *"
   ]
  },
  {
   "cell_type": "markdown",
   "metadata": {},
   "source": [
    "## Saving & Restoring CLAM Model Training Checkpoints"
   ]
  },
  {
   "cell_type": "markdown",
   "metadata": {},
   "source": [
    "### Loading Models for Training"
   ]
  },
  {
   "cell_type": "code",
   "execution_count": 5,
   "metadata": {},
   "outputs": [],
   "source": [
    "ng_att = NG_Att_Net(dim_features=1024, dim_compress_features=512, n_hidden_units=256, n_classes=2,\n",
    "                 dropout=False, dropout_rate=.25)\n",
    "\n",
    "g_att = G_Att_Net(dim_features=1024, dim_compress_features=512, n_hidden_units=256, n_classes=2,\n",
    "                 dropout=False, dropout_rate=.25)"
   ]
  },
  {
   "cell_type": "code",
   "execution_count": 6,
   "metadata": {},
   "outputs": [],
   "source": [
    "ins = Ins(dim_compress_features=512, n_class=2, n_ins=8, mut_ex=True)"
   ]
  },
  {
   "cell_type": "code",
   "execution_count": 7,
   "metadata": {},
   "outputs": [],
   "source": [
    "s_bag = S_Bag(dim_compress_features=512, n_class=2)\n",
    "\n",
    "m_bag = M_Bag(dim_compress_features=512, n_class=2)"
   ]
  },
  {
   "cell_type": "code",
   "execution_count": 8,
   "metadata": {},
   "outputs": [],
   "source": [
    "s_clam = S_CLAM(att_gate=True, net_size='big', n_ins=8, n_class=2, mut_ex=False,\n",
    "            dropout=True, drop_rate=.55, mil_ins=True, att_only=False)\n",
    "\n",
    "m_clam = M_CLAM(att_gate=True, net_size='big', n_ins=8, n_class=2, mut_ex=False,\n",
    "            dropout=True, drop_rate=.55, mil_ins=True, att_only=False)"
   ]
  },
  {
   "cell_type": "markdown",
   "metadata": {},
   "source": [
    "### Loading Required Path"
   ]
  },
  {
   "cell_type": "code",
   "execution_count": 10,
   "metadata": {},
   "outputs": [],
   "source": [
    "train_is_bach = '/path/'\n",
    "val_is_bach = '/path/'\n",
    "test_is_bach = '/path/'"
   ]
  },
  {
   "cell_type": "code",
   "execution_count": 13,
   "metadata": {},
   "outputs": [],
   "source": [
    "clam_result_dir = '/path/'"
   ]
  },
  {
   "cell_type": "code",
   "execution_count": 14,
   "metadata": {},
   "outputs": [],
   "source": [
    "i_trained_model_dir = '/path/'\n",
    "b_trained_model_dir = '/path/'\n",
    "c_trained_model_dir = '/path/'"
   ]
  },
  {
   "cell_type": "code",
   "execution_count": 15,
   "metadata": {},
   "outputs": [],
   "source": [
    "current_time = datetime.datetime.now().strftime(\"%Y%m%d-%H%M%S\")\n",
    "train_log_dir = '/path/' + current_time + '/train'\n",
    "val_log_dir = '/path/' + current_time + '/val'"
   ]
  },
  {
   "cell_type": "markdown",
   "metadata": {},
   "source": [
    "## Start Training, Validating & Testing CLAM Model"
   ]
  },
  {
   "cell_type": "code",
   "execution_count": 16,
   "metadata": {},
   "outputs": [],
   "source": [
    "tf_shut_up(no_warn_op=True)"
   ]
  },
  {
   "cell_type": "code",
   "execution_count": 18,
   "metadata": {},
   "outputs": [],
   "source": [
    "clam_optimize(train_log=train_log_dir, val_log=val_log_dir, \n",
    "              train_path=train_is_bach, val_path=val_is_bach, \n",
    "              i_model=ins, b_model=s_bag, c_model=s_clam, \n",
    "              i_optimizer_func=tfa.optimizers.AdamW, \n",
    "              b_optimizer_func=tfa.optimizers.AdamW, \n",
    "              c_optimizer_func=tfa.optimizers.AdamW, \n",
    "              i_loss_func=tf.keras.losses.binary_crossentropy, \n",
    "              b_loss_func=tf.keras.losses.binary_crossentropy, \n",
    "              mutual_ex=False, n_class=2, c1=0.7, c2=0.3, \n",
    "              i_learn_rate=2e-04, b_learn_rate=2e-04, c_learn_rate=2e-04,\n",
    "              i_l2_decay=1e-05, b_l2_decay=1e-05, c_l2_decay=1e-05,\n",
    "              n_ins=8, batch_size=2000, batch_op=False, \n",
    "              i_model_dir=i_trained_model_dir, \n",
    "              b_model_dir=b_trained_model_dir, \n",
    "              c_model_dir=c_trained_model_dir, \n",
    "              m_bag_op=False, m_clam_op=False, g_att_op=True, epochs=200)"
   ]
  },
  {
   "cell_type": "code",
   "execution_count": 16,
   "metadata": {},
   "outputs": [],
   "source": [
    "clam_test(n_class=2, n_ins=8, att_gate=True, att_only=False, mil_ins=True, mut_ex=False, \n",
    "          test_path=test_is_bach, result_path=clam_result_dir, \n",
    "          result_file_name='test_bach_model_save.tsv', \n",
    "          i_model_dir=i_trained_model_dir, \n",
    "          b_model_dir=b_trained_model_dir, \n",
    "          c_model_dir=c_trained_model_dir, \n",
    "          m_bag_op=False, m_clam_op=False)"
   ]
  },
  {
   "cell_type": "code",
   "execution_count": null,
   "metadata": {},
   "outputs": [],
   "source": []
  }
 ],
 "metadata": {
  "kernelspec": {
   "display_name": "Python 3",
   "language": "python",
   "name": "python3"
  },
  "language_info": {
   "codemirror_mode": {
    "name": "ipython",
    "version": 3
   },
   "file_extension": ".py",
   "mimetype": "text/x-python",
   "name": "python",
   "nbconvert_exporter": "python",
   "pygments_lexer": "ipython3",
   "version": "3.7.7"
  },
  "pycharm": {
   "stem_cell": {
    "cell_type": "raw",
    "source": [],
    "metadata": {
     "collapsed": false
    }
   }
  }
 },
 "nbformat": 4,
 "nbformat_minor": 4
}